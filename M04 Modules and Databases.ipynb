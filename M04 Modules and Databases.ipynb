{
 "cells": [
  {
   "cell_type": "code",
   "execution_count": 2,
   "id": "1abad192",
   "metadata": {},
   "outputs": [
    {
     "name": "stdout",
     "output_type": "stream",
     "text": [
      "Open 9-5 daily\n"
     ]
    }
   ],
   "source": [
    "# 11.1\n",
    "import zoo\n",
    "\n",
    "zoo.hours()"
   ]
  },
  {
   "cell_type": "code",
   "execution_count": 3,
   "id": "f9703bf8",
   "metadata": {},
   "outputs": [
    {
     "name": "stdout",
     "output_type": "stream",
     "text": [
      "Open 9-5 daily\n"
     ]
    }
   ],
   "source": [
    "# 11.2\n",
    "import zoo as menagerie\n",
    "\n",
    "menagerie.hours()\n"
   ]
  },
  {
   "cell_type": "code",
   "execution_count": 29,
   "id": "3dc93a78",
   "metadata": {},
   "outputs": [
    {
     "ename": "ProgrammingError",
     "evalue": "parameters are of unsupported type",
     "output_type": "error",
     "traceback": [
      "\u001b[1;31m---------------------------------------------------------------------------\u001b[0m",
      "\u001b[1;31mProgrammingError\u001b[0m                          Traceback (most recent call last)",
      "Cell \u001b[1;32mIn[29], line 14\u001b[0m\n\u001b[0;32m     11\u001b[0m \u001b[38;5;66;03m# curs.execute('''CREATE TABLE books(title STR, author STR, year INT)''') \u001b[39;00m\n\u001b[0;32m     13\u001b[0m ins \u001b[38;5;241m=\u001b[39m \u001b[38;5;124m'\u001b[39m\u001b[38;5;124mINSERT INTO books (title, author, year) VALUES(?, ?, ?)\u001b[39m\u001b[38;5;124m'\u001b[39m  \n\u001b[1;32m---> 14\u001b[0m curs\u001b[38;5;241m.\u001b[39mexecute(ins, data)\n",
      "\u001b[1;31mProgrammingError\u001b[0m: parameters are of unsupported type"
     ]
    }
   ],
   "source": [
    "# 16.8\n",
    "import sqlite3\n",
    "import sqlalchemy as sa  \n",
    "import csv\n",
    "\n",
    "file = open('books2.csv')\n",
    "data = csv.reader(file)\n",
    "                \n",
    "conn = sqlite3.connect('books.db')\n",
    "curs = conn.cursor() \n",
    "# curs.execute('''CREATE TABLE books(title STR, author STR, year INT)''') \n",
    "\n",
    "ins = 'INSERT INTO books (title, author, year) VALUES(?, ?, ?)'  \n",
    "curs.execute(ins, data)\n",
    "\n",
    "\n",
    "\n"
   ]
  },
  {
   "cell_type": "code",
   "execution_count": null,
   "id": "7354f8bf",
   "metadata": {},
   "outputs": [],
   "source": []
  }
 ],
 "metadata": {
  "kernelspec": {
   "display_name": "Python 3 (ipykernel)",
   "language": "python",
   "name": "python3"
  },
  "language_info": {
   "codemirror_mode": {
    "name": "ipython",
    "version": 3
   },
   "file_extension": ".py",
   "mimetype": "text/x-python",
   "name": "python",
   "nbconvert_exporter": "python",
   "pygments_lexer": "ipython3",
   "version": "3.11.5"
  }
 },
 "nbformat": 4,
 "nbformat_minor": 5
}
