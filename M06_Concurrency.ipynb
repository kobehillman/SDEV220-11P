{
 "cells": [
  {
   "cell_type": "code",
   "execution_count": 44,
   "id": "c99c9884",
   "metadata": {},
   "outputs": [
    {
     "name": "stdout",
     "output_type": "stream",
     "text": [
      "2024-02-25\n",
      "Today is 2024-02-25\n"
     ]
    }
   ],
   "source": [
    "import datetime\n",
    "import time\n",
    "\n",
    "#13.1\n",
    "now = datetime.date.today()\n",
    "file = open('today.txt', 'w')\n",
    "file.write(str(now))\n",
    "file.close()\n",
    "\n",
    "#13.2\n",
    "file =  open('today.txt', 'r')\n",
    "today_string = file.read()\n",
    "print(today_string)\n",
    "\n",
    "#13.3\n",
    "today = datetime.datetime.strptime(today_string, '%Y-%m-%d').date()\n",
    "print('Today is', today)\n",
    "\n",
    "file.close()\n",
    "\n"
   ]
  },
  {
   "cell_type": "code",
   "execution_count": 56,
   "id": "76efeb82",
   "metadata": {},
   "outputs": [],
   "source": [
    "#15.1\n",
    "\n",
    "def dryer():\n",
    "    import redis\n",
    "    import os\n",
    "    import time\n",
    "    import random\n",
    "    conn = redis.Redis()\n",
    "    pid = os.getpid()\n",
    "    timeout = 20\n",
    "    print('Dryer process %s is starting' % pid)\n",
    "    while True:\n",
    "        msg = conn.blpop('dishes', timeout)\n",
    "        if not msg:\n",
    "            break\n",
    "        val = msg[1].decode('utf-8')\n",
    "        if val == 'quit':\n",
    "            break\n",
    "        print('%s: dried %s' % (pid, val))\n",
    "        time.sleep(random())\n",
    "    print('Dryer process %s is done' % pid)\n",
    "    os.system('date -u')\n",
    "\n",
    "import multiprocessing\n",
    "DRYERS=3\n",
    "for num in range(DRYERS):\n",
    "    p = multiprocessing.Process(target=dryer)\n",
    "    p.start()\n"
   ]
  },
  {
   "cell_type": "code",
   "execution_count": null,
   "id": "388e0ed5",
   "metadata": {},
   "outputs": [],
   "source": []
  },
  {
   "cell_type": "code",
   "execution_count": null,
   "id": "46fd5a71",
   "metadata": {},
   "outputs": [],
   "source": []
  }
 ],
 "metadata": {
  "kernelspec": {
   "display_name": "Python 3 (ipykernel)",
   "language": "python",
   "name": "python3"
  },
  "language_info": {
   "codemirror_mode": {
    "name": "ipython",
    "version": 3
   },
   "file_extension": ".py",
   "mimetype": "text/x-python",
   "name": "python",
   "nbconvert_exporter": "python",
   "pygments_lexer": "ipython3",
   "version": "3.11.5"
  }
 },
 "nbformat": 4,
 "nbformat_minor": 5
}
