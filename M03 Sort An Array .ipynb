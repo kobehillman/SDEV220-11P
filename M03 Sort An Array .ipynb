{
 "cells": [
  {
   "cell_type": "code",
   "execution_count": 2,
   "id": "94eaa78c",
   "metadata": {},
   "outputs": [
    {
     "name": "stdout",
     "output_type": "stream",
     "text": [
      "[0, 1, 2, 2, 2]\n"
     ]
    }
   ],
   "source": [
    "def sort012(arr,n):\n",
    "    low = 0\n",
    "    high = n-1\n",
    "    mid = 0\n",
    "        \n",
    "    while mid <= high:\n",
    "        if arr[mid] == 0:\n",
    "            arr[mid], arr[low] = arr[low], arr[mid]\n",
    "            mid += 1\n",
    "            low += 1\n",
    "            \n",
    "        elif arr[mid] == 1:\n",
    "            mid += 1\n",
    "            \n",
    "        else:\n",
    "            arr[mid], arr[high] = arr[high], arr[mid]\n",
    "            high -= 1\n",
    "            \n",
    "n = 5\n",
    "arr = [0, 2, 2, 1, 2]\n",
    "\n",
    "sort012(arr, n)\n",
    "\n",
    "print(arr)"
   ]
  },
  {
   "cell_type": "code",
   "execution_count": null,
   "id": "69eb2833",
   "metadata": {},
   "outputs": [],
   "source": []
  }
 ],
 "metadata": {
  "kernelspec": {
   "display_name": "Python 3 (ipykernel)",
   "language": "python",
   "name": "python3"
  },
  "language_info": {
   "codemirror_mode": {
    "name": "ipython",
    "version": 3
   },
   "file_extension": ".py",
   "mimetype": "text/x-python",
   "name": "python",
   "nbconvert_exporter": "python",
   "pygments_lexer": "ipython3",
   "version": "3.11.5"
  }
 },
 "nbformat": 4,
 "nbformat_minor": 5
}
